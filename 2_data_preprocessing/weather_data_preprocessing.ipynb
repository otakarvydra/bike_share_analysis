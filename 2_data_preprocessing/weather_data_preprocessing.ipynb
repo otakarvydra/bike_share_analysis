{
 "cells": [
  {
   "cell_type": "markdown",
   "id": "408fd4c0",
   "metadata": {},
   "source": [
    "# Executive Summary\n",
    "***"
   ]
  },
  {
   "cell_type": "markdown",
   "id": "ae2e1604",
   "metadata": {},
   "source": [
    "This notebook pre-processes the weather data from Newark Liberty International Airport. \n",
    "\n",
    "The original dataset is one table containing different weather measurements for each day of 2016. (First 5 rows are shown below). The dataset is of high quality with few missing data points, no duplicated columns and no data integrity issues. \n",
    "\n",
    "In this notebook, the data is checked for sanity and validated, missing data is identified and filled in and units are converted. No new columns are added. The resulting table is exported as a .csv file to be uploaded into a PostgreSQL database. "
   ]
  },
  {
   "cell_type": "markdown",
   "id": "4c86774e",
   "metadata": {},
   "source": [
    "# Importing Data and Packages\n",
    "***"
   ]
  },
  {
   "cell_type": "code",
   "execution_count": 6,
   "id": "e067597d",
   "metadata": {},
   "outputs": [],
   "source": [
    "import pandas as pd"
   ]
  },
  {
   "cell_type": "code",
   "execution_count": 7,
   "id": "30c1f0b6",
   "metadata": {},
   "outputs": [
    {
     "data": {
      "text/html": [
       "<div>\n",
       "<style scoped>\n",
       "    .dataframe tbody tr th:only-of-type {\n",
       "        vertical-align: middle;\n",
       "    }\n",
       "\n",
       "    .dataframe tbody tr th {\n",
       "        vertical-align: top;\n",
       "    }\n",
       "\n",
       "    .dataframe thead th {\n",
       "        text-align: right;\n",
       "    }\n",
       "</style>\n",
       "<table border=\"1\" class=\"dataframe\">\n",
       "  <thead>\n",
       "    <tr style=\"text-align: right;\">\n",
       "      <th></th>\n",
       "      <th>STATION</th>\n",
       "      <th>NAME</th>\n",
       "      <th>DATE</th>\n",
       "      <th>AWND</th>\n",
       "      <th>PGTM</th>\n",
       "      <th>PRCP</th>\n",
       "      <th>SNOW</th>\n",
       "      <th>SNWD</th>\n",
       "      <th>TAVG</th>\n",
       "      <th>TMAX</th>\n",
       "      <th>TMIN</th>\n",
       "      <th>TSUN</th>\n",
       "      <th>WDF2</th>\n",
       "      <th>WDF5</th>\n",
       "      <th>WSF2</th>\n",
       "      <th>WSF5</th>\n",
       "    </tr>\n",
       "  </thead>\n",
       "  <tbody>\n",
       "    <tr>\n",
       "      <th>0</th>\n",
       "      <td>USW00014734</td>\n",
       "      <td>NEWARK LIBERTY INTERNATIONAL AIRPORT, NJ US</td>\n",
       "      <td>2016-01-01</td>\n",
       "      <td>12.75</td>\n",
       "      <td>NaN</td>\n",
       "      <td>0.0</td>\n",
       "      <td>0.0</td>\n",
       "      <td>0.0</td>\n",
       "      <td>41</td>\n",
       "      <td>43</td>\n",
       "      <td>34</td>\n",
       "      <td>NaN</td>\n",
       "      <td>270</td>\n",
       "      <td>280.0</td>\n",
       "      <td>25.9</td>\n",
       "      <td>35.1</td>\n",
       "    </tr>\n",
       "    <tr>\n",
       "      <th>1</th>\n",
       "      <td>USW00014734</td>\n",
       "      <td>NEWARK LIBERTY INTERNATIONAL AIRPORT, NJ US</td>\n",
       "      <td>2016-01-02</td>\n",
       "      <td>9.40</td>\n",
       "      <td>NaN</td>\n",
       "      <td>0.0</td>\n",
       "      <td>0.0</td>\n",
       "      <td>0.0</td>\n",
       "      <td>36</td>\n",
       "      <td>42</td>\n",
       "      <td>30</td>\n",
       "      <td>NaN</td>\n",
       "      <td>260</td>\n",
       "      <td>260.0</td>\n",
       "      <td>21.0</td>\n",
       "      <td>25.1</td>\n",
       "    </tr>\n",
       "    <tr>\n",
       "      <th>2</th>\n",
       "      <td>USW00014734</td>\n",
       "      <td>NEWARK LIBERTY INTERNATIONAL AIRPORT, NJ US</td>\n",
       "      <td>2016-01-03</td>\n",
       "      <td>10.29</td>\n",
       "      <td>NaN</td>\n",
       "      <td>0.0</td>\n",
       "      <td>0.0</td>\n",
       "      <td>0.0</td>\n",
       "      <td>37</td>\n",
       "      <td>47</td>\n",
       "      <td>28</td>\n",
       "      <td>NaN</td>\n",
       "      <td>270</td>\n",
       "      <td>250.0</td>\n",
       "      <td>23.9</td>\n",
       "      <td>30.0</td>\n",
       "    </tr>\n",
       "    <tr>\n",
       "      <th>3</th>\n",
       "      <td>USW00014734</td>\n",
       "      <td>NEWARK LIBERTY INTERNATIONAL AIRPORT, NJ US</td>\n",
       "      <td>2016-01-04</td>\n",
       "      <td>17.22</td>\n",
       "      <td>NaN</td>\n",
       "      <td>0.0</td>\n",
       "      <td>0.0</td>\n",
       "      <td>0.0</td>\n",
       "      <td>32</td>\n",
       "      <td>35</td>\n",
       "      <td>14</td>\n",
       "      <td>NaN</td>\n",
       "      <td>330</td>\n",
       "      <td>330.0</td>\n",
       "      <td>25.9</td>\n",
       "      <td>33.1</td>\n",
       "    </tr>\n",
       "    <tr>\n",
       "      <th>4</th>\n",
       "      <td>USW00014734</td>\n",
       "      <td>NEWARK LIBERTY INTERNATIONAL AIRPORT, NJ US</td>\n",
       "      <td>2016-01-05</td>\n",
       "      <td>9.84</td>\n",
       "      <td>NaN</td>\n",
       "      <td>0.0</td>\n",
       "      <td>0.0</td>\n",
       "      <td>0.0</td>\n",
       "      <td>19</td>\n",
       "      <td>31</td>\n",
       "      <td>10</td>\n",
       "      <td>NaN</td>\n",
       "      <td>360</td>\n",
       "      <td>350.0</td>\n",
       "      <td>25.1</td>\n",
       "      <td>31.1</td>\n",
       "    </tr>\n",
       "  </tbody>\n",
       "</table>\n",
       "</div>"
      ],
      "text/plain": [
       "       STATION                                         NAME        DATE  \\\n",
       "0  USW00014734  NEWARK LIBERTY INTERNATIONAL AIRPORT, NJ US  2016-01-01   \n",
       "1  USW00014734  NEWARK LIBERTY INTERNATIONAL AIRPORT, NJ US  2016-01-02   \n",
       "2  USW00014734  NEWARK LIBERTY INTERNATIONAL AIRPORT, NJ US  2016-01-03   \n",
       "3  USW00014734  NEWARK LIBERTY INTERNATIONAL AIRPORT, NJ US  2016-01-04   \n",
       "4  USW00014734  NEWARK LIBERTY INTERNATIONAL AIRPORT, NJ US  2016-01-05   \n",
       "\n",
       "    AWND  PGTM  PRCP  SNOW  SNWD  TAVG  TMAX  TMIN  TSUN  WDF2   WDF5  WSF2  \\\n",
       "0  12.75   NaN   0.0   0.0   0.0    41    43    34   NaN   270  280.0  25.9   \n",
       "1   9.40   NaN   0.0   0.0   0.0    36    42    30   NaN   260  260.0  21.0   \n",
       "2  10.29   NaN   0.0   0.0   0.0    37    47    28   NaN   270  250.0  23.9   \n",
       "3  17.22   NaN   0.0   0.0   0.0    32    35    14   NaN   330  330.0  25.9   \n",
       "4   9.84   NaN   0.0   0.0   0.0    19    31    10   NaN   360  350.0  25.1   \n",
       "\n",
       "   WSF5  \n",
       "0  35.1  \n",
       "1  25.1  \n",
       "2  30.0  \n",
       "3  33.1  \n",
       "4  31.1  "
      ]
     },
     "execution_count": 7,
     "metadata": {},
     "output_type": "execute_result"
    }
   ],
   "source": [
    "weather_data = pd.read_csv('C:/Users/Dell/OneDrive/Dokumenty/Data Engineering/Codecademy Course/Bike Rental Project/bike-rental-starter-kit/data/newark_airport_2016.csv')\n",
    "weather_df = pd.DataFrame(weather_data)\n",
    "weather_df.head(5)"
   ]
  },
  {
   "cell_type": "markdown",
   "id": "e026f48d",
   "metadata": {},
   "source": [
    "## Data Legend\n",
    "***"
   ]
  },
  {
   "cell_type": "markdown",
   "id": "5d205a1a",
   "metadata": {},
   "source": [
    "The following table explains the names of the columns:\n",
    "<br>**AWND** - Average daily wind speed\n",
    "<br>**PGTM** - Peak gust time\n",
    "<br>**PRCP** - Precipitation\n",
    "<br>**SNOW** - Snowfall\n",
    "<br>**SNWD** - Snow depth\n",
    "<br>**TAVG** - Average temperature\n",
    "<br>**TMAX** - Maximum temperature\n",
    "<br>**TMIN** - Minimum temperature\n",
    "<br>**TSUN** - Daily total sunshine\n",
    "<br>**WDF2** - Direction of fastest 2-minute wind\n",
    "<br>**WDF5** - Direction of fastest 5-second wind\n",
    "<br>**WSF2** - Fastest 2-minute wind speed\n",
    "<br>**WSF5** - Fastest 5-second wind speed"
   ]
  },
  {
   "cell_type": "markdown",
   "id": "abe209d6",
   "metadata": {},
   "source": [
    "## Initial Exploration of the Data\n",
    "***"
   ]
  },
  {
   "cell_type": "code",
   "execution_count": 8,
   "id": "6da5bbf1",
   "metadata": {},
   "outputs": [
    {
     "name": "stdout",
     "output_type": "stream",
     "text": [
      "1\n",
      "1\n"
     ]
    }
   ],
   "source": [
    "print(weather_df['STATION'].nunique())\n",
    "print(weather_df['NAME'].nunique())"
   ]
  },
  {
   "cell_type": "code",
   "execution_count": 9,
   "id": "321fea87",
   "metadata": {},
   "outputs": [
    {
     "name": "stdout",
     "output_type": "stream",
     "text": [
      "2016-01-01\n",
      "2016-12-31\n"
     ]
    }
   ],
   "source": [
    "print(weather_df['DATE'].min())\n",
    "print(weather_df['DATE'].max())"
   ]
  },
  {
   "cell_type": "code",
   "execution_count": 10,
   "id": "7d9e61fb",
   "metadata": {},
   "outputs": [
    {
     "name": "stdout",
     "output_type": "stream",
     "text": [
      "366\n"
     ]
    }
   ],
   "source": [
    "print(weather_df['DATE'].count())"
   ]
  },
  {
   "cell_type": "markdown",
   "id": "a53b24e3",
   "metadata": {},
   "source": [
    "The dataset spans from the start of 2016 to the end of it. \n",
    "It contains data only from Newark airport. Information on every day is included (The year 2016 had 366 days).\n",
    "The first two columns are dropped as they provide no additional information."
   ]
  },
  {
   "cell_type": "code",
   "execution_count": 11,
   "id": "9209076a",
   "metadata": {},
   "outputs": [],
   "source": [
    "weather_df = weather_df.drop(['STATION', 'NAME'], axis = 1)"
   ]
  },
  {
   "cell_type": "markdown",
   "id": "1a21437a",
   "metadata": {},
   "source": [
    "## Checking for missing and duplicated Data\n",
    "***"
   ]
  },
  {
   "cell_type": "code",
   "execution_count": 12,
   "id": "772713f2",
   "metadata": {},
   "outputs": [
    {
     "name": "stdout",
     "output_type": "stream",
     "text": [
      "   column  number_of_missing_rows  percentage_missing\n",
      "0    DATE                       0            0.000000\n",
      "1    AWND                       0            0.000000\n",
      "2    PGTM                     366          100.000000\n",
      "3    PRCP                       0            0.000000\n",
      "4    SNOW                       0            0.000000\n",
      "5    SNWD                       0            0.000000\n",
      "6    TAVG                       0            0.000000\n",
      "7    TMAX                       0            0.000000\n",
      "8    TMIN                       0            0.000000\n",
      "9    TSUN                     366          100.000000\n",
      "10   WDF2                       0            0.000000\n",
      "11   WDF5                       2            0.546448\n",
      "12   WSF2                       0            0.000000\n",
      "13   WSF5                       2            0.546448\n",
      "\n",
      "The number of duplicated rows is:\n",
      "0\n"
     ]
    }
   ],
   "source": [
    "weather_missing_values = weather_df.isna().sum().reset_index()\n",
    "number_of_rows = weather_df['DATE'].count()\n",
    "weather_missing_values = weather_missing_values.rename(columns = {'index' : 'column', 0 : 'number_of_missing_rows'})\n",
    "weather_missing_values['percentage_missing'] =  100.0 * weather_missing_values['number_of_missing_rows'] / number_of_rows\n",
    "print(weather_missing_values)\n",
    "print('\\nThe number of duplicated rows is:')\n",
    "print(weather_df.duplicated().sum())"
   ]
  },
  {
   "cell_type": "markdown",
   "id": "b9eef2b1",
   "metadata": {},
   "source": [
    "The dataset in general is in a good shape. \n",
    "The columns PGTM and TSUN will be dropped as they are completely empty.\n",
    "There are two missing values in the WDF5 and WSF5 columns (These are the direction of the wind in degrees and the fastest 5 second wind respectively.) \n",
    "As is the common practice this missing data is at first assumed to be MNAR but this can not be falsified or approved since the dataset contains no metadata or other information. \n",
    "The data is considered to be MCAR and the missing values are filled with mean of the column. This will introduce insignificant bias into the dataset and will preserve other values needed for analysis. "
   ]
  },
  {
   "cell_type": "code",
   "execution_count": 13,
   "id": "87a3e32b",
   "metadata": {},
   "outputs": [],
   "source": [
    "weather_df = weather_df.drop(['PGTM', 'TSUN'], axis = 1)\n",
    "weather_df['WDF5'].fillna(weather_df['WDF5'].mean(), inplace = True)\n",
    "weather_df['WSF5'].fillna(weather_df['WSF5'].mean(), inplace = True)"
   ]
  },
  {
   "cell_type": "markdown",
   "id": "8bceed2f",
   "metadata": {},
   "source": [
    "## Unit Determination, Conversion and Rounding\n",
    "***\n",
    "Using documentation provided, the units are converted, included in the column names and rounded."
   ]
  },
  {
   "cell_type": "code",
   "execution_count": 14,
   "id": "55f518fe",
   "metadata": {},
   "outputs": [
    {
     "data": {
      "text/html": [
       "<div>\n",
       "<style scoped>\n",
       "    .dataframe tbody tr th:only-of-type {\n",
       "        vertical-align: middle;\n",
       "    }\n",
       "\n",
       "    .dataframe tbody tr th {\n",
       "        vertical-align: top;\n",
       "    }\n",
       "\n",
       "    .dataframe thead th {\n",
       "        text-align: right;\n",
       "    }\n",
       "</style>\n",
       "<table border=\"1\" class=\"dataframe\">\n",
       "  <thead>\n",
       "    <tr style=\"text-align: right;\">\n",
       "      <th></th>\n",
       "      <th>date</th>\n",
       "      <th>awnd_m/s</th>\n",
       "      <th>prcp_mm</th>\n",
       "      <th>snow_mm</th>\n",
       "      <th>snwd_mm</th>\n",
       "      <th>tavg_degc</th>\n",
       "      <th>tmax_degc</th>\n",
       "      <th>tmin_degc</th>\n",
       "      <th>wdf2_deg</th>\n",
       "      <th>wdf5_deg</th>\n",
       "      <th>wsf2_m/s</th>\n",
       "      <th>wsf5_m/s</th>\n",
       "    </tr>\n",
       "  </thead>\n",
       "  <tbody>\n",
       "    <tr>\n",
       "      <th>0</th>\n",
       "      <td>2016-01-01</td>\n",
       "      <td>5.7</td>\n",
       "      <td>0.0</td>\n",
       "      <td>0.0</td>\n",
       "      <td>0.0</td>\n",
       "      <td>5.0</td>\n",
       "      <td>6.1</td>\n",
       "      <td>1.1</td>\n",
       "      <td>270</td>\n",
       "      <td>280</td>\n",
       "      <td>11.6</td>\n",
       "      <td>15.7</td>\n",
       "    </tr>\n",
       "    <tr>\n",
       "      <th>1</th>\n",
       "      <td>2016-01-02</td>\n",
       "      <td>4.2</td>\n",
       "      <td>0.0</td>\n",
       "      <td>0.0</td>\n",
       "      <td>0.0</td>\n",
       "      <td>2.2</td>\n",
       "      <td>5.6</td>\n",
       "      <td>-1.1</td>\n",
       "      <td>260</td>\n",
       "      <td>260</td>\n",
       "      <td>9.4</td>\n",
       "      <td>11.2</td>\n",
       "    </tr>\n",
       "    <tr>\n",
       "      <th>2</th>\n",
       "      <td>2016-01-03</td>\n",
       "      <td>4.6</td>\n",
       "      <td>0.0</td>\n",
       "      <td>0.0</td>\n",
       "      <td>0.0</td>\n",
       "      <td>2.8</td>\n",
       "      <td>8.3</td>\n",
       "      <td>-2.2</td>\n",
       "      <td>270</td>\n",
       "      <td>250</td>\n",
       "      <td>10.7</td>\n",
       "      <td>13.4</td>\n",
       "    </tr>\n",
       "    <tr>\n",
       "      <th>3</th>\n",
       "      <td>2016-01-04</td>\n",
       "      <td>7.7</td>\n",
       "      <td>0.0</td>\n",
       "      <td>0.0</td>\n",
       "      <td>0.0</td>\n",
       "      <td>0.0</td>\n",
       "      <td>1.7</td>\n",
       "      <td>-10.0</td>\n",
       "      <td>330</td>\n",
       "      <td>330</td>\n",
       "      <td>11.6</td>\n",
       "      <td>14.8</td>\n",
       "    </tr>\n",
       "    <tr>\n",
       "      <th>4</th>\n",
       "      <td>2016-01-05</td>\n",
       "      <td>4.4</td>\n",
       "      <td>0.0</td>\n",
       "      <td>0.0</td>\n",
       "      <td>0.0</td>\n",
       "      <td>-7.2</td>\n",
       "      <td>-0.6</td>\n",
       "      <td>-12.2</td>\n",
       "      <td>360</td>\n",
       "      <td>350</td>\n",
       "      <td>11.2</td>\n",
       "      <td>13.9</td>\n",
       "    </tr>\n",
       "  </tbody>\n",
       "</table>\n",
       "</div>"
      ],
      "text/plain": [
       "         date  awnd_m/s  prcp_mm  snow_mm  snwd_mm  tavg_degc  tmax_degc  \\\n",
       "0  2016-01-01       5.7      0.0      0.0      0.0        5.0        6.1   \n",
       "1  2016-01-02       4.2      0.0      0.0      0.0        2.2        5.6   \n",
       "2  2016-01-03       4.6      0.0      0.0      0.0        2.8        8.3   \n",
       "3  2016-01-04       7.7      0.0      0.0      0.0        0.0        1.7   \n",
       "4  2016-01-05       4.4      0.0      0.0      0.0       -7.2       -0.6   \n",
       "\n",
       "   tmin_degc  wdf2_deg  wdf5_deg  wsf2_m/s  wsf5_m/s  \n",
       "0        1.1       270       280      11.6      15.7  \n",
       "1       -1.1       260       260       9.4      11.2  \n",
       "2       -2.2       270       250      10.7      13.4  \n",
       "3      -10.0       330       330      11.6      14.8  \n",
       "4      -12.2       360       350      11.2      13.9  "
      ]
     },
     "execution_count": 14,
     "metadata": {},
     "output_type": "execute_result"
    }
   ],
   "source": [
    "weather_df['AWND'] = weather_df['AWND'] * 0.44704\n",
    "weather_df['PRCP'] = weather_df['PRCP'] * 25.4\n",
    "weather_df['SNOW'] = weather_df['SNOW'] * 25.4\n",
    "weather_df['SNWD'] = weather_df['SNWD'] * 25.4\n",
    "\n",
    "weather_df['TAVG'] = (weather_df['TAVG'] - 32) / 1.8\n",
    "weather_df['TMAX'] = (weather_df['TMAX'] - 32) / 1.8\n",
    "weather_df['TMIN'] = (weather_df['TMIN'] - 32) / 1.8\n",
    "\n",
    "weather_df['WSF2'] = weather_df['WSF2'] * 0.44704\n",
    "weather_df['WSF5'] = weather_df['WSF5'] * 0.44704\n",
    "\n",
    "weather_df = weather_df.rename(columns = {\n",
    "    'DATE' : 'date',\n",
    "    'AWND' : 'awnd_m/s',\n",
    "    'PRCP' : 'prcp_mm',\n",
    "    'SNOW' : 'snow_mm',\n",
    "    'SNWD' : 'snwd_mm',\n",
    "    'TAVG' : 'tavg_degc',\n",
    "    'TMAX' : 'tmax_degc',\n",
    "    'TMIN' : 'tmin_degc',\n",
    "    'WDF2' : 'wdf2_deg',\n",
    "    'WDF5' : 'wdf5_deg',\n",
    "    'WSF2' : 'wsf2_m/s',\n",
    "    'WSF5' : 'wsf5_m/s' \n",
    "})\n",
    "\n",
    "columns_to_round_decimal = ['awnd_m/s', 'prcp_mm', 'snow_mm', 'snwd_mm', 'tavg_degc', 'tmax_degc', 'tmin_degc', 'wdf2_deg', 'wdf5_deg', 'wsf2_m/s', 'wsf5_m/s']\n",
    "weather_df[columns_to_round_decimal] = weather_df[columns_to_round_decimal].round(1)\n",
    "weather_df['wdf5_deg'] = weather_df['wdf5_deg'].astype(int)\n",
    "weather_df.head(5)"
   ]
  },
  {
   "cell_type": "markdown",
   "id": "3d4139ad",
   "metadata": {},
   "source": [
    "## Sanity and physical check of the Data\n",
    "***"
   ]
  },
  {
   "cell_type": "markdown",
   "id": "d8fb614d",
   "metadata": {},
   "source": [
    "Since there is no information on the level of checks of the data a quick sanity check is carried out to ensure all min and max values of each column in the dataset are within reasonable physical boundaries."
   ]
  },
  {
   "cell_type": "code",
   "execution_count": 15,
   "id": "039ee5e3",
   "metadata": {},
   "outputs": [
    {
     "name": "stdout",
     "output_type": "stream",
     "text": [
      "         awnd_m/s     prcp_mm     snow_mm     snwd_mm   tavg_degc   tmax_degc  \\\n",
      "count  366.000000  366.000000  366.000000  366.000000  366.000000  366.000000   \n",
      "mean     4.215574    2.669126    2.491530    8.703005   13.996721   18.885792   \n",
      "std      1.675481    7.811253   32.423079   52.794662    9.703870   10.337672   \n",
      "min      1.100000    0.000000    0.000000    0.000000  -13.300000   -7.800000   \n",
      "25%      3.025000    0.000000    0.000000    0.000000    6.100000   10.725000   \n",
      "50%      3.900000    0.000000    0.000000    0.000000   13.300000   18.900000   \n",
      "75%      5.100000    0.800000    0.000000    0.000000   23.300000   28.300000   \n",
      "max     10.200000   70.900000  609.600000  510.500000   31.700000   37.200000   \n",
      "\n",
      "        tmin_degc    wdf2_deg   wdf5_deg    wsf2_m/s    wsf5_m/s  \n",
      "count  366.000000  366.000000  366.00000  366.000000  366.000000  \n",
      "mean     9.144262  217.841530  228.26776    9.159016   11.984153  \n",
      "std      9.519682  102.548282   97.14852    3.063566    3.958846  \n",
      "min    -17.800000   10.000000   10.00000    3.100000    4.500000  \n",
      "25%      1.700000  150.000000  152.50000    6.700000    8.900000  \n",
      "50%      8.300000  240.000000  260.00000    8.900000   11.200000  \n",
      "75%     17.800000  300.000000  300.00000   10.700000   13.900000  \n",
      "max     26.700000  360.000000  360.00000   21.500000   29.500000  \n"
     ]
    }
   ],
   "source": [
    "print(weather_df.describe())"
   ]
  },
  {
   "cell_type": "markdown",
   "id": "2bd5658a",
   "metadata": {},
   "source": [
    "# Exporting the Data Frame\n",
    "***"
   ]
  },
  {
   "cell_type": "code",
   "execution_count": 16,
   "id": "b4a77da7",
   "metadata": {},
   "outputs": [],
   "source": [
    "weather_df.to_csv('C:/Users/Dell/weather.csv', index=False)"
   ]
  },
  {
   "cell_type": "markdown",
   "id": "c9b2f785",
   "metadata": {},
   "source": [
    "# Final Inspection\n",
    "***"
   ]
  },
  {
   "cell_type": "code",
   "execution_count": 17,
   "id": "4516a60a",
   "metadata": {},
   "outputs": [
    {
     "data": {
      "text/html": [
       "<div>\n",
       "<style scoped>\n",
       "    .dataframe tbody tr th:only-of-type {\n",
       "        vertical-align: middle;\n",
       "    }\n",
       "\n",
       "    .dataframe tbody tr th {\n",
       "        vertical-align: top;\n",
       "    }\n",
       "\n",
       "    .dataframe thead th {\n",
       "        text-align: right;\n",
       "    }\n",
       "</style>\n",
       "<table border=\"1\" class=\"dataframe\">\n",
       "  <thead>\n",
       "    <tr style=\"text-align: right;\">\n",
       "      <th></th>\n",
       "      <th>date</th>\n",
       "      <th>awnd_m/s</th>\n",
       "      <th>prcp_mm</th>\n",
       "      <th>snow_mm</th>\n",
       "      <th>snwd_mm</th>\n",
       "      <th>tavg_degc</th>\n",
       "      <th>tmax_degc</th>\n",
       "      <th>tmin_degc</th>\n",
       "      <th>wdf2_deg</th>\n",
       "      <th>wdf5_deg</th>\n",
       "      <th>wsf2_m/s</th>\n",
       "      <th>wsf5_m/s</th>\n",
       "    </tr>\n",
       "  </thead>\n",
       "  <tbody>\n",
       "    <tr>\n",
       "      <th>0</th>\n",
       "      <td>2016-01-01</td>\n",
       "      <td>5.7</td>\n",
       "      <td>0.0</td>\n",
       "      <td>0.0</td>\n",
       "      <td>0.0</td>\n",
       "      <td>5.0</td>\n",
       "      <td>6.1</td>\n",
       "      <td>1.1</td>\n",
       "      <td>270</td>\n",
       "      <td>280</td>\n",
       "      <td>11.6</td>\n",
       "      <td>15.7</td>\n",
       "    </tr>\n",
       "    <tr>\n",
       "      <th>1</th>\n",
       "      <td>2016-01-02</td>\n",
       "      <td>4.2</td>\n",
       "      <td>0.0</td>\n",
       "      <td>0.0</td>\n",
       "      <td>0.0</td>\n",
       "      <td>2.2</td>\n",
       "      <td>5.6</td>\n",
       "      <td>-1.1</td>\n",
       "      <td>260</td>\n",
       "      <td>260</td>\n",
       "      <td>9.4</td>\n",
       "      <td>11.2</td>\n",
       "    </tr>\n",
       "    <tr>\n",
       "      <th>2</th>\n",
       "      <td>2016-01-03</td>\n",
       "      <td>4.6</td>\n",
       "      <td>0.0</td>\n",
       "      <td>0.0</td>\n",
       "      <td>0.0</td>\n",
       "      <td>2.8</td>\n",
       "      <td>8.3</td>\n",
       "      <td>-2.2</td>\n",
       "      <td>270</td>\n",
       "      <td>250</td>\n",
       "      <td>10.7</td>\n",
       "      <td>13.4</td>\n",
       "    </tr>\n",
       "    <tr>\n",
       "      <th>3</th>\n",
       "      <td>2016-01-04</td>\n",
       "      <td>7.7</td>\n",
       "      <td>0.0</td>\n",
       "      <td>0.0</td>\n",
       "      <td>0.0</td>\n",
       "      <td>0.0</td>\n",
       "      <td>1.7</td>\n",
       "      <td>-10.0</td>\n",
       "      <td>330</td>\n",
       "      <td>330</td>\n",
       "      <td>11.6</td>\n",
       "      <td>14.8</td>\n",
       "    </tr>\n",
       "    <tr>\n",
       "      <th>4</th>\n",
       "      <td>2016-01-05</td>\n",
       "      <td>4.4</td>\n",
       "      <td>0.0</td>\n",
       "      <td>0.0</td>\n",
       "      <td>0.0</td>\n",
       "      <td>-7.2</td>\n",
       "      <td>-0.6</td>\n",
       "      <td>-12.2</td>\n",
       "      <td>360</td>\n",
       "      <td>350</td>\n",
       "      <td>11.2</td>\n",
       "      <td>13.9</td>\n",
       "    </tr>\n",
       "  </tbody>\n",
       "</table>\n",
       "</div>"
      ],
      "text/plain": [
       "         date  awnd_m/s  prcp_mm  snow_mm  snwd_mm  tavg_degc  tmax_degc  \\\n",
       "0  2016-01-01       5.7      0.0      0.0      0.0        5.0        6.1   \n",
       "1  2016-01-02       4.2      0.0      0.0      0.0        2.2        5.6   \n",
       "2  2016-01-03       4.6      0.0      0.0      0.0        2.8        8.3   \n",
       "3  2016-01-04       7.7      0.0      0.0      0.0        0.0        1.7   \n",
       "4  2016-01-05       4.4      0.0      0.0      0.0       -7.2       -0.6   \n",
       "\n",
       "   tmin_degc  wdf2_deg  wdf5_deg  wsf2_m/s  wsf5_m/s  \n",
       "0        1.1       270       280      11.6      15.7  \n",
       "1       -1.1       260       260       9.4      11.2  \n",
       "2       -2.2       270       250      10.7      13.4  \n",
       "3      -10.0       330       330      11.6      14.8  \n",
       "4      -12.2       360       350      11.2      13.9  "
      ]
     },
     "execution_count": 17,
     "metadata": {},
     "output_type": "execute_result"
    }
   ],
   "source": [
    "weather_df.head(5)"
   ]
  }
 ],
 "metadata": {
  "kernelspec": {
   "display_name": "Python 3 (ipykernel)",
   "language": "python",
   "name": "python3"
  },
  "language_info": {
   "codemirror_mode": {
    "name": "ipython",
    "version": 3
   },
   "file_extension": ".py",
   "mimetype": "text/x-python",
   "name": "python",
   "nbconvert_exporter": "python",
   "pygments_lexer": "ipython3",
   "version": "3.11.4"
  }
 },
 "nbformat": 4,
 "nbformat_minor": 5
}
